{
  "nbformat": 4,
  "nbformat_minor": 0,
  "metadata": {
    "colab": {
      "name": "Quiz1.ipynb",
      "provenance": [],
      "collapsed_sections": [],
      "include_colab_link": true
    },
    "kernelspec": {
      "name": "python3",
      "display_name": "Python 3"
    },
    "language_info": {
      "name": "python"
    }
  },
  "cells": [
    {
      "cell_type": "markdown",
      "metadata": {
        "id": "view-in-github",
        "colab_type": "text"
      },
      "source": [
        "<a href=\"https://colab.research.google.com/github/Shohan20lac/cv/blob/master/Quiz1.ipynb\" target=\"_parent\"><img src=\"https://colab.research.google.com/assets/colab-badge.svg\" alt=\"Open In Colab\"/></a>"
      ]
    },
    {
      "cell_type": "code",
      "metadata": {
        "colab": {
          "base_uri": "https://localhost:8080/"
        },
        "id": "Q_4wYZd15VDV",
        "outputId": "b404ebaf-100b-437c-df59-40b0967c5588"
      },
      "source": [
        "%%writefile input.txt\n",
        "Mango 10 20\n",
        "Pineapple 20 30 40 50\n",
        "Jackfruit 100"
      ],
      "execution_count": 78,
      "outputs": [
        {
          "output_type": "stream",
          "text": [
            "Writing input.txt\n"
          ],
          "name": "stdout"
        }
      ]
    },
    {
      "cell_type": "code",
      "metadata": {
        "colab": {
          "base_uri": "https://localhost:8080/"
        },
        "id": "kFBc6RG0IoAg",
        "outputId": "d64abb06-af3a-44ee-983f-9244871ba8c6"
      },
      "source": [
        "%%writefile test.cpp\n",
        "\n",
        "//This is where you will write your C++ code\n",
        "#include <iostream>\n",
        "#include <fstream>\n",
        "#include <sstream>\n",
        "using namespace std;\n",
        "\n",
        "bool hasMoreVowels (string s){\n",
        "    int vowelcount=0;\n",
        "    int consonantcount=0;\n",
        "    \n",
        "    for (int index=0; index<s.length(); index++){\n",
        "        cout << s[index]<< endl;\n",
        "        for (int j=0; j<5; j++){\n",
        "            if (s[index]=='a' || s[index]=='e' || s[index]=='i' || s[index]=='o' || s[index]=='u'){\n",
        "                cout << s[index] << \" is a vowel\" << endl;\n",
        "                vowelcount++;\n",
        "                break;\n",
        "            }\n",
        "            else {\n",
        "                cout << s[index] << \" is a consonant\" << endl;\n",
        "                consonantcount++;\n",
        "                break;\n",
        "            }\n",
        "\n",
        "        }\n",
        "    }\n",
        "\n",
        "    if (vowelcount > consonantcount) \n",
        "      return true;\n",
        "    else \n",
        "      return false;\n",
        "}\n",
        "\n",
        "bool hasMoreVowels (string s, int length, int vowelcount, int consonantcount){\n",
        "  //cout << s.length() <<endl;\n",
        "\n",
        "  if (length ==0){\n",
        "      if (vowelcount>consonantcount) return true;\n",
        "      else return false;\n",
        "  }\n",
        "\n",
        "  if (s[length]=='a' || s[length]=='e' || s[length]=='i' || s[length]=='o' || s[length]=='u')\n",
        "    return true && hasMoreVowels(s,length-1,vowelcount+1,consonantcount);\n",
        "    else return true && hasMoreVowels (s,length-1,vowelcount,consonantcount+1);\n",
        "}\n",
        "\n",
        "\n",
        "void averageWeight(){\n",
        "    float thisweight;\n",
        "\n",
        "    float average;\n",
        "    float fruitcount=0;\n",
        "    ifstream infile (\"input.txt\");\n",
        "    ofstream outfile(\"output.txt\");\n",
        "    \n",
        "    if (!outfile.is_open()) {\n",
        "\t\tcout << \"file not found\" << endl;\n",
        "\t\treturn;\n",
        "\t}\n",
        "\n",
        "    string line; string word; string name;\n",
        "\n",
        "    while (getline(infile, line)){  //execute this every line\n",
        "      float weightsum=0;\n",
        "      \n",
        "      //getting fruitname\n",
        "      stringstream ss (line);\n",
        "      ss>>name;\n",
        "      outfile << name << \" \";\n",
        "\n",
        "      //getting all weights in a line\n",
        "      while (ss >> thisweight){\n",
        "          fruitcount++;\n",
        "          weightsum = weightsum + thisweight;\n",
        "      }\n",
        "      average = weightsum / fruitcount;\n",
        "\n",
        "      outfile << average << endl;\n",
        "\n",
        "    }\n",
        "}\n",
        "\n",
        "void checkAnswer2 (){\n",
        "    ifstream infile (\"output.txt\");\n",
        "    string line;\n",
        "    while (getline (infile,line)){\n",
        "        cout << line << endl;\n",
        "    }\n",
        "}\n",
        "\n",
        "int main() {\n",
        "    //test string\n",
        "    string s = \"saaam\";\n",
        "\n",
        "    //to run recursively, call this:\n",
        "    //cout << hasMoreVowels(s,s.length()-1,0,0);\n",
        "\n",
        "    //to run non-recursively, call this:\n",
        "    //hasMoreVowels(s);\n",
        "\n",
        "    //averageWeight();\n",
        "    //checkAnswer2();\n",
        "    return 0;\n",
        "}"
      ],
      "execution_count": 123,
      "outputs": [
        {
          "output_type": "stream",
          "text": [
            "Overwriting test.cpp\n"
          ],
          "name": "stdout"
        }
      ]
    },
    {
      "cell_type": "code",
      "metadata": {
        "colab": {
          "base_uri": "https://localhost:8080/"
        },
        "id": "aKWRF4sMJYb3",
        "outputId": "6f32fa92-7f38-4f3d-d965-3a5429e8ba68"
      },
      "source": [
        "%%script bash\n",
        "g++ test.cpp -o test\n",
        "./test"
      ],
      "execution_count": 124,
      "outputs": [
        {
          "output_type": "stream",
          "text": [
            "Mango 15\n",
            "Pineapple 23.3333\n",
            "Jackfruit 14.2857\n"
          ],
          "name": "stdout"
        }
      ]
    }
  ]
}